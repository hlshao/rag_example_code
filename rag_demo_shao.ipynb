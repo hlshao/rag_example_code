{
  "nbformat": 4,
  "nbformat_minor": 0,
  "metadata": {
    "colab": {
      "provenance": []
    },
    "kernelspec": {
      "name": "python3",
      "display_name": "Python 3"
    },
    "language_info": {
      "name": "python"
    }
  },
  "cells": [
    {
      "cell_type": "code",
      "execution_count": null,
      "metadata": {
        "id": "Ca91FZrtXTa9"
      },
      "outputs": [],
      "source": [
        "# 1. 安裝必要套件\n",
        "!pip install faiss-cpu sentence-transformers pypdf chardet llama-cpp-python chromadb PyMuPDF --quiet"
      ]
    },
    {
      "cell_type": "code",
      "source": [
        "!wget -O tinyllama-1.1b-chat-v1.0.Q4_K_M.gguf \\\n",
        "    https://huggingface.co/TheBloke/TinyLlama-1.1B-Chat-v1.0-GGUF/resolve/main/tinyllama-1.1b-chat-v1.0.Q4_K_M.gguf"
      ],
      "metadata": {
        "id": "CJwtvobAX5Ca"
      },
      "execution_count": null,
      "outputs": []
    },
    {
      "cell_type": "code",
      "source": [
        "from llama_cpp import Llama\n",
        "\n",
        "# 載入模型\n",
        "llm = Llama(model_path=\"tinyllama-1.1b-chat-v1.0.Q4_K_M.gguf\", n_ctx=2048, n_threads=4)\n",
        "#llm = Llama(model_path=\"qwen-0.5b-chat.gguf\", n_ctx=2048, n_threads=4)\n",
        "print(\"模型已載入完成\")"
      ],
      "metadata": {
        "id": "J0UFW6ELYSTR"
      },
      "execution_count": null,
      "outputs": []
    },
    {
      "cell_type": "code",
      "source": [
        "from chromadb import Client\n",
        "import chromadb.utils.embedding_functions as ef\n",
        "\n",
        "embedding_func = ef.DefaultEmbeddingFunction()\n",
        "chroma_client = Client()\n",
        "collection = chroma_client.create_collection(name=\"docs\", embedding_function=embedding_func)\n",
        "print(\"已建立 ChromaDB 檢索資料庫\")"
      ],
      "metadata": {
        "colab": {
          "base_uri": "https://localhost:8080/"
        },
        "id": "ik35nPcRb9NG",
        "outputId": "e6a1658f-7378-4f7d-9970-df9a930ff03f"
      },
      "execution_count": 20,
      "outputs": [
        {
          "output_type": "stream",
          "name": "stdout",
          "text": [
            "已建立 ChromaDB 檢索資料庫\n"
          ]
        }
      ]
    },
    {
      "cell_type": "code",
      "source": [
        "# 6. 問答流程 (RAG)\n",
        "def retrieve(query, top_k=3):\n",
        "    q_emb = embedding_model.encode([query])\n",
        "    D, I = index.search(np.array(q_emb).astype('float32'), top_k)\n",
        "    return [all_chunks[idx] for idx in I[0]]\n",
        "\n",
        "def rag_qa(query):\n",
        "    results = collection.query(query_texts=[query], n_results=3)\n",
        "    context = \" \".join(results[\"documents\"][0])\n",
        "    prompt = f\"\"\"使用以下資料回答問題：\n",
        "{context}\n",
        "\n",
        "問題：{query}\n",
        "回答：\n",
        "\"\"\"\n",
        "    output = llm(prompt, max_tokens=256, stop=[\"</s>\"])\n",
        "    return output[\"choices\"][0][\"text\"]\n"
      ],
      "metadata": {
        "id": "2tbtMpltZge9"
      },
      "execution_count": 21,
      "outputs": []
    },
    {
      "cell_type": "code",
      "source": [
        "print(rag_qa(\"簡述國科會經費規定\"))"
      ],
      "metadata": {
        "colab": {
          "base_uri": "https://localhost:8080/"
        },
        "id": "1oRqlLytZqwj",
        "outputId": "990f0c64-68f6-484a-9c58-f08e8e35e0db"
      },
      "execution_count": 22,
      "outputs": [
        {
          "output_type": "stream",
          "name": "stderr",
          "text": [
            "/root/.cache/chroma/onnx_models/all-MiniLM-L6-v2/onnx.tar.gz: 100%|██████████| 79.3M/79.3M [00:01<00:00, 41.7MiB/s]\n",
            "llama_perf_context_print:        load time =    2648.76 ms\n",
            "llama_perf_context_print: prompt eval time =    2648.30 ms /    55 tokens (   48.15 ms per token,    20.77 tokens per second)\n",
            "llama_perf_context_print:        eval time =   28756.84 ms /   255 runs   (  112.77 ms per token,     8.87 tokens per second)\n",
            "llama_perf_context_print:       total time =   31623.18 ms /   310 tokens\n"
          ]
        },
        {
          "output_type": "stream",
          "name": "stdout",
          "text": [
            "國科會經費規定包括兩種方式：\n",
            "\n",
            "1. 優先契約：國科會會員為各級普通會議委員、總統會委員和國科會推薦委員與國科會會長之間的契約，其中，會長投票決減至最少一個會長。\n",
            "\n",
            "2. 優先會議：國科會會議會由國科會會長，會臺縣大學大學生會臺縣大學大學生會臺縣大學大學生會臺縣大學大學生會臺縣大學大學生會臺縣大學大學生會臺縣大\n"
          ]
        }
      ]
    },
    {
      "cell_type": "code",
      "source": [
        "from sentence_transformers import SentenceTransformer\n",
        "import chromadb\n",
        "from chromadb.utils import embedding_functions\n",
        "import glob\n",
        "import pypdf\n",
        "\n",
        "# 建立 embedding 模型\n",
        "embedder = SentenceTransformer(\"all-MiniLM-L6-v2\")\n"
      ],
      "metadata": {
        "id": "cxizUJtnXn4l"
      },
      "execution_count": 32,
      "outputs": []
    },
    {
      "cell_type": "code",
      "source": [
        "from google.colab import files\n",
        "import fitz  # PyMuPDF\n",
        "\n",
        "uploaded = files.upload()\n",
        "for filename in uploaded.keys():\n",
        "    if filename.lower().endswith(\".pdf\"):\n",
        "        doc = fitz.open(filename)\n",
        "        text = \"\"\n",
        "        for page in doc:\n",
        "            text += page.get_text()\n",
        "    elif filename.lower().endswith(\".txt\"):\n",
        "        with open(filename, \"r\", encoding=\"utf-8\") as f:\n",
        "            text = f.read()\n",
        "    else:\n",
        "        print(f\"不支援的檔案格式: {filename}\")\n",
        "        continue\n",
        "\n",
        "    # 分段加入向量資料庫\n",
        "    chunks = [text[i:i+500] for i in range(0, len(text), 500)]\n",
        "    ids = [f\"{filename}_{i}\" for i in range(len(chunks))]\n",
        "    collection.add(documents=chunks, ids=ids)\n",
        "    print(f\"已處理並加入知識庫: {filename}\")\n",
        "\n",
        "print(\"文件已全部加入知識庫\")"
      ],
      "metadata": {
        "colab": {
          "base_uri": "https://localhost:8080/",
          "height": 150
        },
        "id": "vu14dpx_eqVX",
        "outputId": "4efdd6df-0e3f-4183-ddc0-005666859d04"
      },
      "execution_count": 36,
      "outputs": [
        {
          "output_type": "display_data",
          "data": {
            "text/plain": [
              "<IPython.core.display.HTML object>"
            ],
            "text/html": [
              "\n",
              "     <input type=\"file\" id=\"files-8252c3ec-877c-48e7-8b77-c360e9a9475a\" name=\"files[]\" multiple disabled\n",
              "        style=\"border:none\" />\n",
              "     <output id=\"result-8252c3ec-877c-48e7-8b77-c360e9a9475a\">\n",
              "      Upload widget is only available when the cell has been executed in the\n",
              "      current browser session. Please rerun this cell to enable.\n",
              "      </output>\n",
              "      <script>// Copyright 2017 Google LLC\n",
              "//\n",
              "// Licensed under the Apache License, Version 2.0 (the \"License\");\n",
              "// you may not use this file except in compliance with the License.\n",
              "// You may obtain a copy of the License at\n",
              "//\n",
              "//      http://www.apache.org/licenses/LICENSE-2.0\n",
              "//\n",
              "// Unless required by applicable law or agreed to in writing, software\n",
              "// distributed under the License is distributed on an \"AS IS\" BASIS,\n",
              "// WITHOUT WARRANTIES OR CONDITIONS OF ANY KIND, either express or implied.\n",
              "// See the License for the specific language governing permissions and\n",
              "// limitations under the License.\n",
              "\n",
              "/**\n",
              " * @fileoverview Helpers for google.colab Python module.\n",
              " */\n",
              "(function(scope) {\n",
              "function span(text, styleAttributes = {}) {\n",
              "  const element = document.createElement('span');\n",
              "  element.textContent = text;\n",
              "  for (const key of Object.keys(styleAttributes)) {\n",
              "    element.style[key] = styleAttributes[key];\n",
              "  }\n",
              "  return element;\n",
              "}\n",
              "\n",
              "// Max number of bytes which will be uploaded at a time.\n",
              "const MAX_PAYLOAD_SIZE = 100 * 1024;\n",
              "\n",
              "function _uploadFiles(inputId, outputId) {\n",
              "  const steps = uploadFilesStep(inputId, outputId);\n",
              "  const outputElement = document.getElementById(outputId);\n",
              "  // Cache steps on the outputElement to make it available for the next call\n",
              "  // to uploadFilesContinue from Python.\n",
              "  outputElement.steps = steps;\n",
              "\n",
              "  return _uploadFilesContinue(outputId);\n",
              "}\n",
              "\n",
              "// This is roughly an async generator (not supported in the browser yet),\n",
              "// where there are multiple asynchronous steps and the Python side is going\n",
              "// to poll for completion of each step.\n",
              "// This uses a Promise to block the python side on completion of each step,\n",
              "// then passes the result of the previous step as the input to the next step.\n",
              "function _uploadFilesContinue(outputId) {\n",
              "  const outputElement = document.getElementById(outputId);\n",
              "  const steps = outputElement.steps;\n",
              "\n",
              "  const next = steps.next(outputElement.lastPromiseValue);\n",
              "  return Promise.resolve(next.value.promise).then((value) => {\n",
              "    // Cache the last promise value to make it available to the next\n",
              "    // step of the generator.\n",
              "    outputElement.lastPromiseValue = value;\n",
              "    return next.value.response;\n",
              "  });\n",
              "}\n",
              "\n",
              "/**\n",
              " * Generator function which is called between each async step of the upload\n",
              " * process.\n",
              " * @param {string} inputId Element ID of the input file picker element.\n",
              " * @param {string} outputId Element ID of the output display.\n",
              " * @return {!Iterable<!Object>} Iterable of next steps.\n",
              " */\n",
              "function* uploadFilesStep(inputId, outputId) {\n",
              "  const inputElement = document.getElementById(inputId);\n",
              "  inputElement.disabled = false;\n",
              "\n",
              "  const outputElement = document.getElementById(outputId);\n",
              "  outputElement.innerHTML = '';\n",
              "\n",
              "  const pickedPromise = new Promise((resolve) => {\n",
              "    inputElement.addEventListener('change', (e) => {\n",
              "      resolve(e.target.files);\n",
              "    });\n",
              "  });\n",
              "\n",
              "  const cancel = document.createElement('button');\n",
              "  inputElement.parentElement.appendChild(cancel);\n",
              "  cancel.textContent = 'Cancel upload';\n",
              "  const cancelPromise = new Promise((resolve) => {\n",
              "    cancel.onclick = () => {\n",
              "      resolve(null);\n",
              "    };\n",
              "  });\n",
              "\n",
              "  // Wait for the user to pick the files.\n",
              "  const files = yield {\n",
              "    promise: Promise.race([pickedPromise, cancelPromise]),\n",
              "    response: {\n",
              "      action: 'starting',\n",
              "    }\n",
              "  };\n",
              "\n",
              "  cancel.remove();\n",
              "\n",
              "  // Disable the input element since further picks are not allowed.\n",
              "  inputElement.disabled = true;\n",
              "\n",
              "  if (!files) {\n",
              "    return {\n",
              "      response: {\n",
              "        action: 'complete',\n",
              "      }\n",
              "    };\n",
              "  }\n",
              "\n",
              "  for (const file of files) {\n",
              "    const li = document.createElement('li');\n",
              "    li.append(span(file.name, {fontWeight: 'bold'}));\n",
              "    li.append(span(\n",
              "        `(${file.type || 'n/a'}) - ${file.size} bytes, ` +\n",
              "        `last modified: ${\n",
              "            file.lastModifiedDate ? file.lastModifiedDate.toLocaleDateString() :\n",
              "                                    'n/a'} - `));\n",
              "    const percent = span('0% done');\n",
              "    li.appendChild(percent);\n",
              "\n",
              "    outputElement.appendChild(li);\n",
              "\n",
              "    const fileDataPromise = new Promise((resolve) => {\n",
              "      const reader = new FileReader();\n",
              "      reader.onload = (e) => {\n",
              "        resolve(e.target.result);\n",
              "      };\n",
              "      reader.readAsArrayBuffer(file);\n",
              "    });\n",
              "    // Wait for the data to be ready.\n",
              "    let fileData = yield {\n",
              "      promise: fileDataPromise,\n",
              "      response: {\n",
              "        action: 'continue',\n",
              "      }\n",
              "    };\n",
              "\n",
              "    // Use a chunked sending to avoid message size limits. See b/62115660.\n",
              "    let position = 0;\n",
              "    do {\n",
              "      const length = Math.min(fileData.byteLength - position, MAX_PAYLOAD_SIZE);\n",
              "      const chunk = new Uint8Array(fileData, position, length);\n",
              "      position += length;\n",
              "\n",
              "      const base64 = btoa(String.fromCharCode.apply(null, chunk));\n",
              "      yield {\n",
              "        response: {\n",
              "          action: 'append',\n",
              "          file: file.name,\n",
              "          data: base64,\n",
              "        },\n",
              "      };\n",
              "\n",
              "      let percentDone = fileData.byteLength === 0 ?\n",
              "          100 :\n",
              "          Math.round((position / fileData.byteLength) * 100);\n",
              "      percent.textContent = `${percentDone}% done`;\n",
              "\n",
              "    } while (position < fileData.byteLength);\n",
              "  }\n",
              "\n",
              "  // All done.\n",
              "  yield {\n",
              "    response: {\n",
              "      action: 'complete',\n",
              "    }\n",
              "  };\n",
              "}\n",
              "\n",
              "scope.google = scope.google || {};\n",
              "scope.google.colab = scope.google.colab || {};\n",
              "scope.google.colab._files = {\n",
              "  _uploadFiles,\n",
              "  _uploadFilesContinue,\n",
              "};\n",
              "})(self);\n",
              "</script> "
            ]
          },
          "metadata": {}
        },
        {
          "output_type": "stream",
          "name": "stdout",
          "text": [
            "Saving 國家科學及技術委員會補助國外學者專家來臺從事科技合作研究活動支付費用最高標準表1110830 (3).pdf to 國家科學及技術委員會補助國外學者專家來臺從事科技合作研究活動支付費用最高標準表1110830 (3).pdf\n",
            "已處理並加入知識庫: 國家科學及技術委員會補助國外學者專家來臺從事科技合作研究活動支付費用最高標準表1110830 (3).pdf\n",
            "文件已全部加入知識庫\n"
          ]
        }
      ]
    },
    {
      "cell_type": "code",
      "source": [
        "print(rag_qa(\"簡述國科會經費規定\"))"
      ],
      "metadata": {
        "colab": {
          "base_uri": "https://localhost:8080/"
        },
        "id": "gKPpBTGIZisW",
        "outputId": "86c1a90f-8bf5-4107-dac8-d02bd8ed1647"
      },
      "execution_count": 38,
      "outputs": [
        {
          "output_type": "stream",
          "name": "stderr",
          "text": [
            "Llama.generate: 22 prefix-match hit, remaining 1467 prompt tokens to eval\n",
            "llama_perf_context_print:        load time =    2648.76 ms\n",
            "llama_perf_context_print: prompt eval time =   91963.10 ms /  1467 tokens (   62.69 ms per token,    15.95 tokens per second)\n",
            "llama_perf_context_print:        eval time =   36228.81 ms /   255 runs   (  142.07 ms per token,     7.04 tokens per second)\n",
            "llama_perf_context_print:       total time =  128411.77 ms /  1722 tokens\n"
          ]
        },
        {
          "output_type": "stream",
          "name": "stdout",
          "text": [
            "本表為國家科學及技術委員會（以下簡稱本會）補助國外學者專家來臺\n",
            "與我國學者專家進行合作研究活動。規定，每個月以上至一年者，為衛生福利部\n",
            "中央健康保險署之「全民健康保險」。本表則依規定做補助，其不足一個月日數\n",
            "之日支報酬，以月支報酬標準計算，其不足一個月日數之日支報酬，以月支報酬標準\n",
            "計算，其不足一個月日數之日支報酬，以月支報酬標準計算，其不足\n"
          ]
        }
      ]
    }
  ]
}